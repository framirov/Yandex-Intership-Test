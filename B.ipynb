{
 "cells": [
  {
   "cell_type": "code",
   "execution_count": null,
   "metadata": {},
   "outputs": [],
   "source": [
    "n = int(input())\n",
    "n_str = list(str(n))\n",
    "set_ans = set()\n",
    "str_ans = ''\n",
    "\n",
    "for i in range(1 << (len(n_str) - 1)):\n",
    "    ans = [n_str[0]]\n",
    "    for j in range(len(n_str) - 1):\n",
    "        if (i >> j) & 1 == 1:\n",
    "            ans.append('-')\n",
    "        ans.append(n_str[j + 1])\n",
    "    str1_ans = ''.join(ans)\n",
    "    list1_ans = str1_ans.split('-')\n",
    "    fl = True\n",
    "    for st in list1_ans:\n",
    "        if st[0] == '0' and len(st) > 1:\n",
    "            fl = False\n",
    "    if not fl:\n",
    "        continue\n",
    "    set1_ans = set(list1_ans)\n",
    "\n",
    "    if len(list1_ans) == len(set1_ans):\n",
    "        if len(set_ans) < len(set1_ans):\n",
    "            set_ans = set1_ans\n",
    "            str_ans = str1_ans\n",
    "\n",
    "print(str_ans)"
   ]
  }
 ],
 "metadata": {
  "kernelspec": {
   "display_name": "Python 3",
   "language": "python",
   "name": "python3"
  },
  "language_info": {
   "codemirror_mode": {
    "name": "ipython",
    "version": 3
   },
   "file_extension": ".py",
   "mimetype": "text/x-python",
   "name": "python",
   "nbconvert_exporter": "python",
   "pygments_lexer": "ipython3",
   "version": "3.8.3"
  }
 },
 "nbformat": 4,
 "nbformat_minor": 4
}
