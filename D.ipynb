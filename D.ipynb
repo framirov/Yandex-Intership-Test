{
 "cells": [
  {
   "cell_type": "code",
   "execution_count": null,
   "metadata": {},
   "outputs": [],
   "source": [
    "inp = open(\"input.txt\", \"r\")\n",
    "n = int(inp.readline())\n",
    "was = set()\n",
    "cluster_to_shop = {}\n",
    "shop_to_cluster = {}\n",
    "x = 0\n",
    "for i in range(n):\n",
    "    a, b = [int(x) for x in inp.readline().strip().split(' ')]\n",
    "    if (a not in was) & (b not in was):\n",
    "                was.add(a)\n",
    "                was.add(b)\n",
    "                cluster_to_shop[x] = set()\n",
    "                cluster_to_shop[x].add(a)\n",
    "                cluster_to_shop[x].add(b)\n",
    "                shop_to_cluster[a] = x\n",
    "                shop_to_cluster[b] = x\n",
    "                x += 1\n",
    "    elif ((a in was) & (b in was)):\n",
    "        for i in cluster_to_shop[shop_to_cluster[b]]:\n",
    "            shop_to_cluster[i] = shop_to_cluster[a]\n",
    "            cluster_to_shop[shop_to_cluster[a]].add(i)\n",
    "    elif ((a in was) & (b not in was)):\n",
    "        was.add(b)\n",
    "        shop_to_cluster[b] = shop_to_cluster[a]\n",
    "        cluster_to_shop[shop_to_cluster[a]].add(b)\n",
    "    elif ((b in was) & (a not in was)):\n",
    "        was.add(a)\n",
    "        shop_to_cluster[a] = shop_to_cluster[b]\n",
    "        cluster_to_shop[shop_to_cluster[a]].add(a)\n",
    "m = int(inp.readline())\n",
    "for i in range(m):\n",
    "    a, x = [int(x) for x in inp.readline().strip().split(' ')]\n",
    "    docks = [int(x) for x in inp.readline().strip().split(' ')]\n",
    "    ans_num = 0\n",
    "    ans_all = ''\n",
    "    for i in docks:\n",
    "        if shop_to_cluster[a] == shop_to_cluster[i]:\n",
    "            ans_num += 1\n",
    "            ans_all += ' ' + str(i)\n",
    "    print(str(ans_num) + ans_all)"
   ]
  }
 ],
 "metadata": {
  "kernelspec": {
   "display_name": "Python 3",
   "language": "python",
   "name": "python3"
  },
  "language_info": {
   "codemirror_mode": {
    "name": "ipython",
    "version": 3
   },
   "file_extension": ".py",
   "mimetype": "text/x-python",
   "name": "python",
   "nbconvert_exporter": "python",
   "pygments_lexer": "ipython3",
   "version": "3.8.3"
  }
 },
 "nbformat": 4,
 "nbformat_minor": 4
}
