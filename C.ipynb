{
 "cells": [
  {
   "cell_type": "code",
   "execution_count": null,
   "metadata": {},
   "outputs": [],
   "source": [
    "n = int(input())\n",
    "x = sorted([int(x) for x in input().strip().split(' ')])\n",
    "d_teams = {}\n",
    "for i in x:\n",
    "    if i in d_teams:\n",
    "        d_teams[i] += 1\n",
    "    else:\n",
    "        d_teams[i] = 1\n",
    "teams = sorted(d_teams)\n",
    "m = int(input())\n",
    "d = {}\n",
    "maxx = max(teams)\n",
    "for i in range(m):\n",
    "    a, b = [int(x) for x in input().strip().split(' ')]\n",
    "    if a > maxx:\n",
    "        a = maxx\n",
    "    if a in d:\n",
    "        d[a] += b\n",
    "    else:\n",
    "        d[a] = b\n",
    "rooms = sorted(d)\n",
    "count = 0\n",
    "while (len(teams) > 0) & (len(rooms) > 0):\n",
    "    fl = True\n",
    "    while (teams[0] > rooms[0]):\n",
    "        rooms.pop(0)\n",
    "        if len(rooms) == 0:\n",
    "            fl = False\n",
    "            break\n",
    "    if (fl == False):\n",
    "        break\n",
    "    if (d[rooms[0]] >= d_teams[teams[0]]):\n",
    "        count += d_teams[teams[0]]\n",
    "        d[rooms[0]] -=  d_teams[teams[0]]\n",
    "        teams.pop(0)\n",
    "    else:\n",
    "        count += d[rooms[0]]\n",
    "        d_teams[teams[0]] -= d[rooms[0]]\n",
    "        d[rooms[0]] = 0\n",
    "        rooms.pop(0)\n",
    "if (len(teams) == 0):\n",
    "    print('Yes')\n",
    "else:\n",
    "    print('No')"
   ]
  }
 ],
 "metadata": {
  "kernelspec": {
   "display_name": "Python 3",
   "language": "python",
   "name": "python3"
  },
  "language_info": {
   "codemirror_mode": {
    "name": "ipython",
    "version": 3
   },
   "file_extension": ".py",
   "mimetype": "text/x-python",
   "name": "python",
   "nbconvert_exporter": "python",
   "pygments_lexer": "ipython3",
   "version": "3.8.3"
  }
 },
 "nbformat": 4,
 "nbformat_minor": 4
}
