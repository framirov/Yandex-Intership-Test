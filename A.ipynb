{
 "cells": [
  {
   "cell_type": "code",
   "execution_count": null,
   "metadata": {},
   "outputs": [],
   "source": [
    "n = int(input())\n",
    "s = input()\n",
    "\n",
    "for t in range(1, n + 1):\n",
    "    b = {}\n",
    "    fl = True\n",
    "    for i, ch in enumerate(s):\n",
    "        if ch == '#':\n",
    "            continue\n",
    "        num = i % t\n",
    "        if b.get(num) is None:\n",
    "            b[num] = ch\n",
    "        else:\n",
    "            if b.get(num) != ch:\n",
    "                break\n",
    "    else:\n",
    "        print(t)\n",
    "        break"
   ]
  }
 ],
 "metadata": {
  "kernelspec": {
   "display_name": "Python 3",
   "language": "python",
   "name": "python3"
  },
  "language_info": {
   "codemirror_mode": {
    "name": "ipython",
    "version": 3
   },
   "file_extension": ".py",
   "mimetype": "text/x-python",
   "name": "python",
   "nbconvert_exporter": "python",
   "pygments_lexer": "ipython3",
   "version": "3.8.3"
  }
 },
 "nbformat": 4,
 "nbformat_minor": 4
}
